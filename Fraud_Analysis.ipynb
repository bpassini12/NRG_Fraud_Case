{
 "cells": [
  {
   "cell_type": "code",
   "execution_count": 113,
   "metadata": {},
   "outputs": [],
   "source": [
    "import pandas as pd\n",
    "import numpy as np\n",
    "import os"
   ]
  },
  {
   "cell_type": "markdown",
   "metadata": {},
   "source": [
    "### Read in Data"
   ]
  },
  {
   "cell_type": "code",
   "execution_count": 143,
   "metadata": {},
   "outputs": [
    {
     "data": {
      "text/html": [
       "<div>\n",
       "<style scoped>\n",
       "    .dataframe tbody tr th:only-of-type {\n",
       "        vertical-align: middle;\n",
       "    }\n",
       "\n",
       "    .dataframe tbody tr th {\n",
       "        vertical-align: top;\n",
       "    }\n",
       "\n",
       "    .dataframe thead th {\n",
       "        text-align: right;\n",
       "    }\n",
       "</style>\n",
       "<table border=\"1\" class=\"dataframe\">\n",
       "  <thead>\n",
       "    <tr style=\"text-align: right;\">\n",
       "      <th></th>\n",
       "      <th>CUSTOMER_ID</th>\n",
       "      <th>X1</th>\n",
       "      <th>X2</th>\n",
       "      <th>X3</th>\n",
       "      <th>X4</th>\n",
       "      <th>Y</th>\n",
       "    </tr>\n",
       "  </thead>\n",
       "  <tbody>\n",
       "    <tr>\n",
       "      <th>0</th>\n",
       "      <td>1</td>\n",
       "      <td>A</td>\n",
       "      <td>2</td>\n",
       "      <td>NaN</td>\n",
       "      <td>-0.475639</td>\n",
       "      <td>0</td>\n",
       "    </tr>\n",
       "    <tr>\n",
       "      <th>1</th>\n",
       "      <td>2</td>\n",
       "      <td>A</td>\n",
       "      <td>4</td>\n",
       "      <td>NaN</td>\n",
       "      <td>-1.716201</td>\n",
       "      <td>0</td>\n",
       "    </tr>\n",
       "    <tr>\n",
       "      <th>2</th>\n",
       "      <td>3</td>\n",
       "      <td>A</td>\n",
       "      <td>4</td>\n",
       "      <td>NaN</td>\n",
       "      <td>-1.716201</td>\n",
       "      <td>0</td>\n",
       "    </tr>\n",
       "    <tr>\n",
       "      <th>3</th>\n",
       "      <td>4</td>\n",
       "      <td>A</td>\n",
       "      <td>5</td>\n",
       "      <td>NaN</td>\n",
       "      <td>0.163438</td>\n",
       "      <td>0</td>\n",
       "    </tr>\n",
       "    <tr>\n",
       "      <th>4</th>\n",
       "      <td>5</td>\n",
       "      <td>A</td>\n",
       "      <td>2</td>\n",
       "      <td>NaN</td>\n",
       "      <td>-1.001938</td>\n",
       "      <td>0</td>\n",
       "    </tr>\n",
       "  </tbody>\n",
       "</table>\n",
       "</div>"
      ],
      "text/plain": [
       "   CUSTOMER_ID X1  X2   X3        X4  Y\n",
       "0            1  A   2  NaN -0.475639  0\n",
       "1            2  A   4  NaN -1.716201  0\n",
       "2            3  A   4  NaN -1.716201  0\n",
       "3            4  A   5  NaN  0.163438  0\n",
       "4            5  A   2  NaN -1.001938  0"
      ]
     },
     "execution_count": 143,
     "metadata": {},
     "output_type": "execute_result"
    }
   ],
   "source": [
    "os.listdir()\n",
    "df = pd.read_csv('fraud_data.csv')\n",
    "df.head()"
   ]
  },
  {
   "cell_type": "markdown",
   "metadata": {},
   "source": [
    "## QUESTION 1\n",
    "* Conduct exploratory data analysis on the fraud_data.csv data set and explain whether any customer attributes are associated with fraud. \n",
    "* The file contains a list of 50,000 sales and includes a customer ID column, four customer attribute columns (X1-X4), and one column indicating whether the customer committed fraud (fraud occurred when Y=1)."
   ]
  },
  {
   "cell_type": "markdown",
   "metadata": {},
   "source": [
    "##### Initial Checks"
   ]
  },
  {
   "cell_type": "code",
   "execution_count": 136,
   "metadata": {},
   "outputs": [
    {
     "name": "stdout",
     "output_type": "stream",
     "text": [
      "<class 'pandas.core.frame.DataFrame'>\n",
      "RangeIndex: 50000 entries, 0 to 49999\n",
      "Data columns (total 6 columns):\n",
      " #   Column       Non-Null Count  Dtype  \n",
      "---  ------       --------------  -----  \n",
      " 0   CUSTOMER_ID  50000 non-null  int64  \n",
      " 1   X1           50000 non-null  object \n",
      " 2   X2           50000 non-null  int64  \n",
      " 3   X3           662 non-null    object \n",
      " 4   X4           49991 non-null  float64\n",
      " 5   Y            50000 non-null  int64  \n",
      "dtypes: float64(1), int64(3), object(2)\n",
      "memory usage: 2.3+ MB\n"
     ]
    }
   ],
   "source": [
    "df.info()"
   ]
  },
  {
   "cell_type": "code",
   "execution_count": 137,
   "metadata": {},
   "outputs": [
    {
     "data": {
      "text/html": [
       "<div>\n",
       "<style scoped>\n",
       "    .dataframe tbody tr th:only-of-type {\n",
       "        vertical-align: middle;\n",
       "    }\n",
       "\n",
       "    .dataframe tbody tr th {\n",
       "        vertical-align: top;\n",
       "    }\n",
       "\n",
       "    .dataframe thead th {\n",
       "        text-align: right;\n",
       "    }\n",
       "</style>\n",
       "<table border=\"1\" class=\"dataframe\">\n",
       "  <thead>\n",
       "    <tr style=\"text-align: right;\">\n",
       "      <th></th>\n",
       "      <th>CUSTOMER_ID</th>\n",
       "      <th>X2</th>\n",
       "      <th>X4</th>\n",
       "      <th>Y</th>\n",
       "    </tr>\n",
       "  </thead>\n",
       "  <tbody>\n",
       "    <tr>\n",
       "      <th>count</th>\n",
       "      <td>50000.000000</td>\n",
       "      <td>50000.000000</td>\n",
       "      <td>49991.000000</td>\n",
       "      <td>50000.000000</td>\n",
       "    </tr>\n",
       "    <tr>\n",
       "      <th>mean</th>\n",
       "      <td>25000.500000</td>\n",
       "      <td>1.779500</td>\n",
       "      <td>0.000011</td>\n",
       "      <td>0.081400</td>\n",
       "    </tr>\n",
       "    <tr>\n",
       "      <th>std</th>\n",
       "      <td>14433.901067</td>\n",
       "      <td>0.940584</td>\n",
       "      <td>1.000060</td>\n",
       "      <td>0.273451</td>\n",
       "    </tr>\n",
       "    <tr>\n",
       "      <th>min</th>\n",
       "      <td>1.000000</td>\n",
       "      <td>1.000000</td>\n",
       "      <td>-4.347695</td>\n",
       "      <td>0.000000</td>\n",
       "    </tr>\n",
       "    <tr>\n",
       "      <th>25%</th>\n",
       "      <td>12500.750000</td>\n",
       "      <td>1.000000</td>\n",
       "      <td>-0.663603</td>\n",
       "      <td>0.000000</td>\n",
       "    </tr>\n",
       "    <tr>\n",
       "      <th>50%</th>\n",
       "      <td>25000.500000</td>\n",
       "      <td>2.000000</td>\n",
       "      <td>-0.212489</td>\n",
       "      <td>0.000000</td>\n",
       "    </tr>\n",
       "    <tr>\n",
       "      <th>75%</th>\n",
       "      <td>37500.250000</td>\n",
       "      <td>2.000000</td>\n",
       "      <td>0.464181</td>\n",
       "      <td>0.000000</td>\n",
       "    </tr>\n",
       "    <tr>\n",
       "      <th>max</th>\n",
       "      <td>50000.000000</td>\n",
       "      <td>5.000000</td>\n",
       "      <td>4.674572</td>\n",
       "      <td>1.000000</td>\n",
       "    </tr>\n",
       "  </tbody>\n",
       "</table>\n",
       "</div>"
      ],
      "text/plain": [
       "        CUSTOMER_ID            X2            X4             Y\n",
       "count  50000.000000  50000.000000  49991.000000  50000.000000\n",
       "mean   25000.500000      1.779500      0.000011      0.081400\n",
       "std    14433.901067      0.940584      1.000060      0.273451\n",
       "min        1.000000      1.000000     -4.347695      0.000000\n",
       "25%    12500.750000      1.000000     -0.663603      0.000000\n",
       "50%    25000.500000      2.000000     -0.212489      0.000000\n",
       "75%    37500.250000      2.000000      0.464181      0.000000\n",
       "max    50000.000000      5.000000      4.674572      1.000000"
      ]
     },
     "execution_count": 137,
     "metadata": {},
     "output_type": "execute_result"
    }
   ],
   "source": [
    "df.describe()"
   ]
  },
  {
   "cell_type": "code",
   "execution_count": 138,
   "metadata": {},
   "outputs": [
    {
     "name": "stdout",
     "output_type": "stream",
     "text": [
      "Fraud perc: 8.14%\n",
      "Unique CUSTOMER_IDs: 100.0%\n",
      "\n",
      "** Independent Variables **\n",
      "X1: 'A','B'\n",
      "X2: 2,4,5,1,3\n",
      "X3: nan,'X',' '\n",
      "X4: is continuous\n",
      "\n",
      "** Dependent Variable **\n",
      "FRAUD_FLAG: 0,1\n"
     ]
    }
   ],
   "source": [
    "df.rename(columns={'Y':'FRAUD_FLAG'}, inplace=True)\n",
    "fraud_perc = len(df[df['FRAUD_FLAG']==1])/len(df) * 100\n",
    "print(f'Fraud perc: {fraud_perc}%')\n",
    "\n",
    "unique_id_perc = len(df['CUSTOMER_ID'].unique())/len(df)* 100\n",
    "print(f'Unique CUSTOMER_IDs: {unique_id_perc}%\\n')\n",
    "\n",
    "print('** Independent Variables **')\n",
    "\n",
    "for col in df.columns[1:]:\n",
    "    x = ','.join(map(repr, df[col].unique()))\n",
    "\n",
    "    if col not in ('X4', 'FRAUD_FLAG'):\n",
    "        print(str(col) + ': ' + x)\n",
    "\n",
    "    elif col=='X4':\n",
    "        print('X4: is continuous\\n')\n",
    "\n",
    "    else:\n",
    "        print('** Dependent Variable **')\n",
    "        print(str(col) + ': ' + x)\n"
   ]
  },
  {
   "cell_type": "markdown",
   "metadata": {},
   "source": [
    "##### Deal with Nulls"
   ]
  },
  {
   "cell_type": "code",
   "execution_count": 144,
   "metadata": {},
   "outputs": [
    {
     "name": "stdout",
     "output_type": "stream",
     "text": [
      "Number of rows being dropped bc of nulls in X4: 9\n"
     ]
    },
    {
     "data": {
      "text/plain": [
       "49991"
      ]
     },
     "execution_count": 144,
     "metadata": {},
     "output_type": "execute_result"
    }
   ],
   "source": [
    "#x4 has 9 nulls so I'm just going to drop them since it's small % of data\n",
    "print('Number of rows being dropped bc of nulls in X4: ' + str(df['X4'].isnull().sum()))\n",
    "df.dropna(axis=0, subset=['X4'],inplace=True)\n",
    "df.reset_index(drop=True,inplace=True)\n",
    "len(df)"
   ]
  }
 ],
 "metadata": {
  "interpreter": {
   "hash": "6f8a02373b0ca9b2202074423eb89dc76b601b99b523ae2b0115ed4073f48e10"
  },
  "kernelspec": {
   "display_name": "Python 3.8.3 ('NRG_Fraud_Case-EtGEBkNm')",
   "language": "python",
   "name": "python3"
  },
  "language_info": {
   "codemirror_mode": {
    "name": "ipython",
    "version": 3
   },
   "file_extension": ".py",
   "mimetype": "text/x-python",
   "name": "python",
   "nbconvert_exporter": "python",
   "pygments_lexer": "ipython3",
   "version": "3.8.3"
  },
  "orig_nbformat": 4
 },
 "nbformat": 4,
 "nbformat_minor": 2
}
